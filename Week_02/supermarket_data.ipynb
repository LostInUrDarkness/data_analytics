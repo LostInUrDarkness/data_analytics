{
 "cells": [
  {
   "cell_type": "markdown",
   "metadata": {},
   "source": [
    "## Additional filters on supermarkets"
   ]
  },
  {
   "cell_type": "code",
   "execution_count": 1,
   "metadata": {},
   "outputs": [
    {
     "name": "stdout",
     "output_type": "stream",
     "text": [
      "     brand         shop    city         street housenumber postcode  \\\n",
      "4   Migros  supermarket  Zürich   Wengistrasse           7     8004   \n",
      "11  Migros  supermarket  Zürich   Etzelstrasse           3     8038   \n",
      "16  Migros  supermarket  Zürich   Löwenstrasse       31-35     8001   \n",
      "50  Migros  supermarket  Zürich  Tessinerplatz          10     8002   \n",
      "71  Migros  supermarket  Zürich  Limmatstrasse         152     8005   \n",
      "\n",
      "                              opening_hours  \n",
      "4                 Mo-Sa 08:00-21:00; PH off  \n",
      "11                Mo-Sa 07:30-21:00; PH off  \n",
      "16                Mo-Sa 09:00-20:00; PH off  \n",
      "50  Mo-Fr 06:30-22:00; PH,Sa-Su 08:00-22:00  \n",
      "71                Mo-Sa 07:30-20:00; PH off  \n",
      "\n",
      "Anzahl Coops in ZH, BS, BE:  52\n",
      "\n",
      "    brand         shop        city          street housenumber postcode  \\\n",
      "0    Spar  supermarket         NaN             NaN         NaN      NaN   \n",
      "1  Migros  supermarket      Uznach  Zürcherstrasse          25     8730   \n",
      "3    Coop  supermarket      Zürich   Bahnhofbrücke           1     8001   \n",
      "4  Migros  supermarket      Zürich    Wengistrasse           7     8004   \n",
      "7  Migros  supermarket  Winterthur  Zürcherstrasse         102     8406   \n",
      "\n",
      "                                       opening_hours  \n",
      "0  Mo-Th 08:00-19:00; Fr 08:00-20:00; Sa 08:00-17:00  \n",
      "1  Mo-Th 08:00-19:00, Fr 08:00-20:00, Sa 07:30-17...  \n",
      "3                                  Mo-Sa 06:00-22:00  \n",
      "4                          Mo-Sa 08:00-21:00; PH off  \n",
      "7          Mo-Fr 07:30-20:00; PH off; Sa 08:00-19:00  \n"
     ]
    }
   ],
   "source": [
    "# Libraries\n",
    "import os\n",
    "import fnmatch\n",
    "import pandas as pd\n",
    "\n",
    "df = pd.read_json('supermarkets.json', encoding='utf-8')\n",
    "\n",
    "# Change to data frame\n",
    "df2 = pd.DataFrame.from_records(df.tags)\n",
    "df2 = df2[['brand', 'shop', 'addr:city', 'addr:street', 'addr:housenumber', 'addr:postcode', 'opening_hours']]\n",
    "\n",
    "# Rename selected columns\n",
    "df2 = df2.rename(columns={'addr:city': 'city',\n",
    "                          'addr:street':'street',\n",
    "                          'addr:housenumber': 'housenumber',\n",
    "                          'addr:postcode': 'postcode'})\n",
    "df_migros = df2.loc[(df2['brand'] == 'Migros') & (df2['city'] == 'Zürich')]\n",
    "\n",
    "print(df_migros.head(5))\n",
    "\n",
    "\n",
    "df_coop = df2.loc[((df2['brand'] == 'Coop') & (df2['city'] == 'Zürich')) | ((df2['brand'] == 'Coop') & (df2['city'] == 'Bern')) |((df2['brand'] == 'Coop') & (df2['city'] == 'Basel'))]\n",
    "\n",
    "print()\n",
    "print('Anzahl Coops in ZH, BS, BE: ', df_coop.shape[0])\n",
    "\n",
    "print()\n",
    "\n",
    "df_open = df2.loc[(df2['opening_hours'].notnull())]\n",
    "print(df_open.head(5))"
   ]
  }
 ],
 "metadata": {
  "kernelspec": {
   "display_name": "Python 3",
   "language": "python",
   "name": "python3"
  },
  "language_info": {
   "codemirror_mode": {
    "name": "ipython",
    "version": 3
   },
   "file_extension": ".py",
   "mimetype": "text/x-python",
   "name": "python",
   "nbconvert_exporter": "python",
   "pygments_lexer": "ipython3",
   "version": "3.10.13"
  },
  "orig_nbformat": 4
 },
 "nbformat": 4,
 "nbformat_minor": 2
}
